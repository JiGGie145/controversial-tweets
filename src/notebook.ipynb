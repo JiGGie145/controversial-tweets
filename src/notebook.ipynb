{
 "cells": [
  {
   "cell_type": "code",
   "execution_count": 1,
   "metadata": {},
   "outputs": [],
   "source": [
    "import os\n",
    "import json\n",
    "import pickle\n",
    "from collections import defaultdict\n",
    "from nltk.tokenize import TweetTokenizer\n",
    "# See https://radimrehurek.com/gensim/models/word2vec.html\n",
    "from gensim.models import KeyedVectors"
   ]
  },
  {
   "cell_type": "code",
   "execution_count": 2,
   "metadata": {},
   "outputs": [],
   "source": [
    "from tweet.tweet import Tweet"
   ]
  },
  {
   "cell_type": "code",
   "execution_count": 3,
   "metadata": {},
   "outputs": [
    {
     "name": "stdout",
     "output_type": "stream",
     "text": [
      "CPU times: user 1min 2s, sys: 1.95 s, total: 1min 3s\n",
      "Wall time: 2min 9s\n"
     ]
    }
   ],
   "source": [
    "%%time\n",
    "model = KeyedVectors.load_word2vec_format(\"../model/SBW-vectors-300-min5.bin.gz\", binary=True)"
   ]
  },
  {
   "cell_type": "code",
   "execution_count": 4,
   "metadata": {},
   "outputs": [],
   "source": [
    "ROOT_PICKLE = '../pickle/inputs/'"
   ]
  },
  {
   "cell_type": "code",
   "execution_count": 5,
   "metadata": {},
   "outputs": [],
   "source": [
    "ROOT_OUT = '../pickle/outputs/'"
   ]
  },
  {
   "cell_type": "code",
   "execution_count": 6,
   "metadata": {},
   "outputs": [],
   "source": [
    "lexicon_attack = ['falso', 'mentira']"
   ]
  },
  {
   "cell_type": "markdown",
   "metadata": {},
   "source": [
    "class Tweet2:\n",
    "    \n",
    "    tknzr = TweetTokenizer()\n",
    "    \n",
    "    def __init__(self, **kwargs):\n",
    "        self.created_at = kwargs.get('created_at', None)\n",
    "        self.id_str = kwargs.get('id_str', None)\n",
    "        self.full_text = kwargs.get('full_text', None)\n",
    "        self.display_text_range = kwargs.get('display_text_range', None)\n",
    "        self.in_reply_to_status_id_str = kwargs.get('in_reply_to_status_id_str', None)\n",
    "        self.screen_name = kwargs.get('screen_name')\n",
    "        \n",
    "        self.replies = None\n",
    "        self.tokens = None\n",
    "        self.stance = None\n",
    "        \n",
    "        self.get_text()\n",
    "        self.tokenizer()\n",
    "    \n",
    "    def get_text(self):\n",
    "        self.full_text = self.full_text[self.display_text_range[0]:]\n",
    "    \n",
    "    def tokenizer(self):\n",
    "        self.tokens = self.tknzr.tokenize(self.full_text)\n",
    "    \n",
    "    def set_stance(self, stance):\n",
    "        # attack, or support\n",
    "        self.stance = stance\n",
    "    \n",
    "    def is_attack(self, lexicon):\n",
    "        attack = False\n",
    "        for token in self.tokens:\n",
    "            if token in lexicon:\n",
    "                self.set_stance('attack')\n",
    "                attack = True\n",
    "                break\n",
    "        return attack\n",
    "    \n",
    "    def is_controversial(self, lexicon):\n",
    "        # solo chequeo el segundo nivel\n",
    "        attacks = 0\n",
    "        for reply in self.replies:\n",
    "            if reply.is_attack(lexicon):\n",
    "                attacks += 1\n",
    "        return attacks >= 2"
   ]
  },
  {
   "cell_type": "code",
   "execution_count": 10,
   "metadata": {},
   "outputs": [],
   "source": [
    "def uno(file):\n",
    "    tweets = defaultdict()\n",
    "    root = None\n",
    "    \n",
    "    with open(os.path.join(ROOT_PICKLE, file), \"r\") as fd:\n",
    "        for line in fd:\n",
    "            jn = json.loads(line)\n",
    "            \n",
    "            created_at = jn['created_at']\n",
    "            id_str = jn['id_str']\n",
    "            full_text = jn['full_text']\n",
    "            display_text_range = jn['display_text_range']\n",
    "            in_reply_to_status_id_str = jn['in_reply_to_status_id_str']\n",
    "            screen_name = jn['user']['screen_name']\n",
    "            \n",
    "            if not in_reply_to_status_id_str:\n",
    "                root = id_str\n",
    "            \n",
    "            tweets[id_str] = Tweet(created_at=created_at,\n",
    "                                   id_str=id_str,\n",
    "                                   full_text=full_text,\n",
    "                                   display_text_range=display_text_range,\n",
    "                                   in_reply_to_status_id_str=in_reply_to_status_id_str,\n",
    "                                   screen_name=screen_name\n",
    "                                  )\n",
    "    return tweets, root"
   ]
  },
  {
   "cell_type": "code",
   "execution_count": 11,
   "metadata": {},
   "outputs": [],
   "source": [
    "def dos(tweets, root):\n",
    "    r = defaultdict(list)\n",
    "    \n",
    "    for id_st, tweet in tweets.items():\n",
    "        if tweet.in_reply_to_status_id_str:\n",
    "            r[tweet.in_reply_to_status_id_str].append(tweet)\n",
    "    \n",
    "    for k, v in r.items():\n",
    "        tweets[k].replies = v\n",
    "    \n",
    "    return tweets[root]"
   ]
  },
  {
   "cell_type": "code",
   "execution_count": 12,
   "metadata": {},
   "outputs": [],
   "source": [
    "tweets, root = uno('perfil.status.1191780164549697536.json')"
   ]
  },
  {
   "cell_type": "code",
   "execution_count": 13,
   "metadata": {},
   "outputs": [],
   "source": [
    "tree = dos(tweets, root)"
   ]
  },
  {
   "cell_type": "markdown",
   "metadata": {},
   "source": [
    "**Primer resultado**"
   ]
  },
  {
   "cell_type": "code",
   "execution_count": 14,
   "metadata": {},
   "outputs": [
    {
     "data": {
      "text/plain": [
       "True"
      ]
     },
     "execution_count": 14,
     "metadata": {},
     "output_type": "execute_result"
    }
   ],
   "source": [
    "tree.is_controversial(lexicon_attack)"
   ]
  },
  {
   "cell_type": "code",
   "execution_count": 15,
   "metadata": {
    "scrolled": true
   },
   "outputs": [],
   "source": [
    "def tageo(tree_dict, lexicon):\n",
    "    for _, tweet in tree_dict.items():\n",
    "        tweet.is_attack(lexicon)"
   ]
  },
  {
   "cell_type": "code",
   "execution_count": 16,
   "metadata": {},
   "outputs": [],
   "source": [
    "tageo(tweets, lexicon_attack)"
   ]
  },
  {
   "cell_type": "code",
   "execution_count": 17,
   "metadata": {},
   "outputs": [],
   "source": [
    "tree = dos(tweets, root)"
   ]
  },
  {
   "cell_type": "code",
   "execution_count": 18,
   "metadata": {},
   "outputs": [],
   "source": [
    "def pri(tree):\n",
    "    for reply in tree.replies:\n",
    "        if reply.stance:\n",
    "            print(reply.full_text)\n",
    "        if reply.replies:\n",
    "            pri(reply)"
   ]
  },
  {
   "cell_type": "code",
   "execution_count": 19,
   "metadata": {},
   "outputs": [
    {
     "name": "stdout",
     "output_type": "stream",
     "text": [
      "Es falso.\n",
      "Saben que es mentira, saben que son unos delincuentes, e igual lo difunden. En la dictadura se los llamo socios civiles . Ustedes SON CÓMPLICES\n"
     ]
    }
   ],
   "source": [
    "pri(tree)"
   ]
  },
  {
   "cell_type": "code",
   "execution_count": 20,
   "metadata": {},
   "outputs": [],
   "source": [
    "with open(os.path.join(ROOT_OUT, 'example1iter.pkl'), 'wb') as fd:\n",
    "    pickle.dump(tree, fd)"
   ]
  },
  {
   "cell_type": "markdown",
   "metadata": {},
   "source": [
    "**Segundo resultado**"
   ]
  },
  {
   "cell_type": "code",
   "execution_count": 22,
   "metadata": {},
   "outputs": [],
   "source": [
    "lexicon_attack_iter_2 = lexicon_attack + [word for word, d in model.most_similar(positive=lexicon_attack)]"
   ]
  },
  {
   "cell_type": "code",
   "execution_count": 23,
   "metadata": {},
   "outputs": [
    {
     "data": {
      "text/plain": [
       "['falso',\n",
       " 'mentira',\n",
       " 'falsa',\n",
       " 'mentirilla',\n",
       " 'verdad',\n",
       " 'fraudulencia',\n",
       " 'engaño',\n",
       " 'infundio',\n",
       " 'mentiras',\n",
       " 'andrómina',\n",
       " 'patraña',\n",
       " 'encubriéndola']"
      ]
     },
     "execution_count": 23,
     "metadata": {},
     "output_type": "execute_result"
    }
   ],
   "source": [
    "lexicon_attack_iter_2"
   ]
  },
  {
   "cell_type": "code",
   "execution_count": 24,
   "metadata": {},
   "outputs": [],
   "source": [
    "tageo(tweets, lexicon_attack_iter_2)"
   ]
  },
  {
   "cell_type": "code",
   "execution_count": 25,
   "metadata": {},
   "outputs": [
    {
     "name": "stdout",
     "output_type": "stream",
     "text": [
      "Es falso.\n",
      "Que se vaya macri y que deje de mentir tantas mentiras puede perjudicar el país\n",
      "mentiras hasta último día mienten hdmp\n",
      "La verdad dejan deuda fmi\n",
      "Sera cierto esto?...mmmm...la verdad....tengo mis dudasss..\n",
      "Son increíbles no dejan de mentir nunca.\n",
      "No han tenido un solo acierto en lo económico, político, social,cultural en ninguno,son horribles de verdad.\n",
      "Por favor váyanse a disfrutar de sus mentiras y dólares acumulados y no hagan más daño!!!!\n",
      "Saben que es mentira, saben que son unos delincuentes, e igual lo difunden. En la dictadura se los llamo socios civiles . Ustedes SON CÓMPLICES\n",
      "Más mentiras macrisis\n",
      "Ibarra es un tipo serio no puede decir esto! Tenemos que pagar intereses en el corto plazo que antes no, y está la deuda con el FMI : como te queda la cuenta neta? Digamos la verdad total no a medias\n",
      "Manga de ladrones digan la verdad!! Que hicieron con la guita del FMI ...se ROBARON UN FMI ENTERO CARADURA!\n",
      "basta de mentiras perfil............no jodan mas\n"
     ]
    }
   ],
   "source": [
    "pri(tree)"
   ]
  },
  {
   "cell_type": "code",
   "execution_count": 27,
   "metadata": {},
   "outputs": [],
   "source": [
    "with open(os.path.join(ROOT_OUT, 'example2iter.pkl'), 'wb') as fd:\n",
    "    pickle.dump(tree, fd)"
   ]
  },
  {
   "cell_type": "markdown",
   "metadata": {},
   "source": [
    "IDEA FRANCO:\n",
    "\n",
    "1- AGRANDO LEXICON A PARTIR DEL MODELO DE CRISTIAN\n",
    "\n",
    "2- CALCULO UN UMBRAL DEL MODELO DE CRISTIAN\n",
    "\n",
    "3- PARA CADA (PALABRAL, TOKENT) DEL LEXICON X TWEET, SI DISTANCIA(PALABRAL, TOKENT) < UMBRAL ENTONCES LEXICON + TOKENT "
   ]
  },
  {
   "cell_type": "markdown",
   "metadata": {},
   "source": [
    "**API TWITTER**"
   ]
  },
  {
   "cell_type": "code",
   "execution_count": null,
   "metadata": {},
   "outputs": [],
   "source": [
    "import tweepy"
   ]
  },
  {
   "cell_type": "code",
   "execution_count": null,
   "metadata": {},
   "outputs": [],
   "source": [
    "CONSUMER_KEY = 'tRe3ZBhnXDPBEKyTi4ifvPTC7' \n",
    "CONSUMER_SECRET = '0dmQlSimyEmaOPiDoFZTF0wYjO0LSzSdWmCP7afZkNHZF94Af5'\n",
    "ACCESS_TOKEN = '421837149-YVewRWLSu8xyYNU1H4NtELUejGB8lzvT4KCfallG'\n",
    "ACCESS_SECRET = 'mFsKYpvJaWvZGHRoy874Z4IF09CRP69srlVj2yjN6mH5L'"
   ]
  },
  {
   "cell_type": "code",
   "execution_count": null,
   "metadata": {},
   "outputs": [],
   "source": [
    "auth = tweepy.OAuthHandler(CONSUMER_KEY, CONSUMER_SECRET)\n",
    "auth.set_access_token(ACCESS_TOKEN, ACCESS_SECRET)\n",
    "\n",
    "api = tweepy.API(auth, wait_on_rate_limit=True, wait_on_rate_limit_notify=True)"
   ]
  },
  {
   "cell_type": "code",
   "execution_count": null,
   "metadata": {},
   "outputs": [],
   "source": [
    "search = tweepy.Cursor(api.search, q=\"to:FedeFavre\", sinceId = 1188249861721919489).items()"
   ]
  }
 ],
 "metadata": {
  "kernelspec": {
   "display_name": "Python 3",
   "language": "python",
   "name": "python3"
  },
  "language_info": {
   "codemirror_mode": {
    "name": "ipython",
    "version": 3
   },
   "file_extension": ".py",
   "mimetype": "text/x-python",
   "name": "python",
   "nbconvert_exporter": "python",
   "pygments_lexer": "ipython3",
   "version": "3.6.8"
  }
 },
 "nbformat": 4,
 "nbformat_minor": 2
}
