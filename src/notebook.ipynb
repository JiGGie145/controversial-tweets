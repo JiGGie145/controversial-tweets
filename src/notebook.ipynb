{
 "cells": [
  {
   "cell_type": "code",
   "execution_count": 114,
   "metadata": {},
   "outputs": [],
   "source": [
    "import os\n",
    "import pickle\n",
    "from tweet import Tweet\n",
    "from nltk.tokenize import TweetTokenizer"
   ]
  },
  {
   "cell_type": "code",
   "execution_count": 38,
   "metadata": {},
   "outputs": [],
   "source": [
    "ROOT_PICKLE = '../pickle/'"
   ]
  },
  {
   "cell_type": "code",
   "execution_count": 147,
   "metadata": {},
   "outputs": [],
   "source": [
    "lexicon_attack = ['falso', 'Falso', 'Falso']\n",
    "word_support = ['verdad']"
   ]
  },
  {
   "cell_type": "code",
   "execution_count": 33,
   "metadata": {},
   "outputs": [],
   "source": [
    "with open(os.path.join(ROOT_PICKLE, 'chequeado1186118160287698944.json.pkl'), 'rb') as fd:\n",
    "    json = pickle.load(fd)"
   ]
  },
  {
   "cell_type": "code",
   "execution_count": 99,
   "metadata": {},
   "outputs": [],
   "source": [
    "def get_text(full_text, text_range):\n",
    "    begin = text_range[0]\n",
    "    return full_text[begin:]   "
   ]
  },
  {
   "cell_type": "code",
   "execution_count": 111,
   "metadata": {},
   "outputs": [],
   "source": [
    "def set_stance(tweet, stance):\n",
    "    tweet.stance = stance"
   ]
  },
  {
   "cell_type": "code",
   "execution_count": 123,
   "metadata": {},
   "outputs": [],
   "source": [
    "tknzr = TweetTokenizer()\n",
    "def tokenizer(tweet, tknzr):\n",
    "    return tknzr.tokenize(tweet.text)"
   ]
  },
  {
   "cell_type": "code",
   "execution_count": 112,
   "metadata": {},
   "outputs": [],
   "source": [
    "def get_replies(json):\n",
    "    replies = []\n",
    "    for idx, tweet in json.items():\n",
    "        if 'in_reply_to_status_id_str' not in tweet:\n",
    "            # Tweet Root\n",
    "            pass\n",
    "        ins = tweet['conversation_id_str']\n",
    "        created_at = tweet['created_at']\n",
    "        id_str = tweet['id_str']\n",
    "        full_text = tweet['full_text']\n",
    "        text_range = tweet['display_text_range']\n",
    "        text = get_text(full_text, text_range)\n",
    "        reply_count = tweet['reply_count']\n",
    "        otweet = Tweet(created_at=created_at,\n",
    "                       id_str=id_str,\n",
    "                       text=text,\n",
    "                       reply_count=reply_count,c\n",
    "                       in_reply_to_status_id_str=ins\n",
    "                      )\n",
    "        replies.append(otweet)\n",
    "    return replies"
   ]
  },
  {
   "cell_type": "code",
   "execution_count": 138,
   "metadata": {},
   "outputs": [],
   "source": [
    "tweets = get_replies(json)"
   ]
  },
  {
   "cell_type": "code",
   "execution_count": 139,
   "metadata": {},
   "outputs": [],
   "source": [
    "# tokenizo el tweet\n",
    "for tweet in tweets:\n",
    "    tweet.text = tokenizer(tweet, tknzr)"
   ]
  },
  {
   "cell_type": "code",
   "execution_count": 148,
   "metadata": {},
   "outputs": [
    {
     "name": "stdout",
     "output_type": "stream",
     "text": [
      "ATACK\n",
      "ATACK\n",
      "ATACK\n"
     ]
    }
   ],
   "source": [
    "for tweet in tweets:\n",
    "    for token in tweet.text:\n",
    "        if token in lexicon_attack:\n",
    "            print(\"ATACK\")\n",
    "            tweet.stance = 'attack'"
   ]
  },
  {
   "cell_type": "code",
   "execution_count": 150,
   "metadata": {},
   "outputs": [
    {
     "name": "stdout",
     "output_type": "stream",
     "text": [
      "{'created_at': 'Mon Oct 21 03:13:01 +0000 2019', 'id_str': '1186118160287698944', 'full_text': '[NUEVO] Macri habló sobre la baja en la cantidad de secuestros.\\n\\nLo que dijo es #VERDADERO 👉 https://t.co/RP5ub4rudY\\n\\nPor @ManuelTarricone.\\n#DebateChequeado #DebatePresidencial2019 #DebateAr2019 https://t.co/WZdWATv8Lp', 'display_text_range': [0, 194], 'entities': {'hashtags': [{'text': 'VERDADERO', 'indices': [80, 90]}, {'text': 'DebateChequeado', 'indices': [140, 156]}, {'text': 'DebatePresidencial2019', 'indices': [157, 180]}, {'text': 'DebateAr2019', 'indices': [181, 194]}], 'user_mentions': [{'screen_name': 'ManuelTarricone', 'name': 'Manuel Tarricone', 'id_str': '601259451', 'indices': [122, 138]}], 'urls': [{'url': 'https://t.co/RP5ub4rudY', 'expanded_url': 'http://bit.ly/2oZdGls', 'display_url': 'bit.ly/2oZdGls', 'indices': [93, 116]}], 'media': [{'id_str': '1186118158584893441', 'indices': [195, 218], 'media_url': 'http://pbs.twimg.com/media/EHXwLlAX0AExetz.jpg', 'media_url_https': 'https://pbs.twimg.com/media/EHXwLlAX0AExetz.jpg', 'url': 'https://t.co/WZdWATv8Lp', 'display_url': 'pic.twitter.com/WZdWATv8Lp', 'expanded_url': 'https://twitter.com/Chequeado/status/1186118160287698944/photo/1', 'type': 'photo', 'original_info': {'width': 800, 'height': 800, 'focus_rects': [{'x': 0, 'y': 276, 'h': 448, 'w': 800}, {'x': 0, 'y': 0, 'h': 800, 'w': 800}, {'x': 0, 'y': 0, 'h': 800, 'w': 702}, {'x': 100, 'y': 0, 'h': 800, 'w': 400}, {'x': 0, 'y': 0, 'h': 800, 'w': 800}]}, 'sizes': {'thumb': {'w': 150, 'h': 150, 'resize': 'crop'}, 'large': {'w': 800, 'h': 800, 'resize': 'fit'}, 'small': {'w': 680, 'h': 680, 'resize': 'fit'}, 'medium': {'w': 800, 'h': 800, 'resize': 'fit'}}, 'features': {'large': {'faces': [{'x': 370, 'y': 518, 'h': 35, 'w': 35}, {'x': 221, 'y': 368, 'h': 54, 'w': 54}, {'x': 198, 'y': 232, 'h': 66, 'w': 66}, {'x': 316, 'y': 97, 'h': 78, 'w': 78}, {'x': 559, 'y': 45, 'h': 203, 'w': 203}]}, 'small': {'faces': [{'x': 314, 'y': 440, 'h': 29, 'w': 29}, {'x': 187, 'y': 312, 'h': 45, 'w': 45}, {'x': 168, 'y': 197, 'h': 56, 'w': 56}, {'x': 268, 'y': 82, 'h': 66, 'w': 66}, {'x': 475, 'y': 38, 'h': 172, 'w': 172}]}, 'orig': {'faces': [{'x': 370, 'y': 518, 'h': 35, 'w': 35}, {'x': 221, 'y': 368, 'h': 54, 'w': 54}, {'x': 198, 'y': 232, 'h': 66, 'w': 66}, {'x': 316, 'y': 97, 'h': 78, 'w': 78}, {'x': 559, 'y': 45, 'h': 203, 'w': 203}]}, 'medium': {'faces': [{'x': 370, 'y': 518, 'h': 35, 'w': 35}, {'x': 221, 'y': 368, 'h': 54, 'w': 54}, {'x': 198, 'y': 232, 'h': 66, 'w': 66}, {'x': 316, 'y': 97, 'h': 78, 'w': 78}, {'x': 559, 'y': 45, 'h': 203, 'w': 203}]}}}]}, 'extended_entities': {'media': [{'id_str': '1186118158584893441', 'indices': [195, 218], 'media_url': 'http://pbs.twimg.com/media/EHXwLlAX0AExetz.jpg', 'media_url_https': 'https://pbs.twimg.com/media/EHXwLlAX0AExetz.jpg', 'url': 'https://t.co/WZdWATv8Lp', 'display_url': 'pic.twitter.com/WZdWATv8Lp', 'expanded_url': 'https://twitter.com/Chequeado/status/1186118160287698944/photo/1', 'type': 'photo', 'original_info': {'width': 800, 'height': 800, 'focus_rects': [{'x': 0, 'y': 276, 'h': 448, 'w': 800}, {'x': 0, 'y': 0, 'h': 800, 'w': 800}, {'x': 0, 'y': 0, 'h': 800, 'w': 702}, {'x': 100, 'y': 0, 'h': 800, 'w': 400}, {'x': 0, 'y': 0, 'h': 800, 'w': 800}]}, 'sizes': {'thumb': {'w': 150, 'h': 150, 'resize': 'crop'}, 'large': {'w': 800, 'h': 800, 'resize': 'fit'}, 'small': {'w': 680, 'h': 680, 'resize': 'fit'}, 'medium': {'w': 800, 'h': 800, 'resize': 'fit'}}, 'features': {'large': {'faces': [{'x': 370, 'y': 518, 'h': 35, 'w': 35}, {'x': 221, 'y': 368, 'h': 54, 'w': 54}, {'x': 198, 'y': 232, 'h': 66, 'w': 66}, {'x': 316, 'y': 97, 'h': 78, 'w': 78}, {'x': 559, 'y': 45, 'h': 203, 'w': 203}]}, 'small': {'faces': [{'x': 314, 'y': 440, 'h': 29, 'w': 29}, {'x': 187, 'y': 312, 'h': 45, 'w': 45}, {'x': 168, 'y': 197, 'h': 56, 'w': 56}, {'x': 268, 'y': 82, 'h': 66, 'w': 66}, {'x': 475, 'y': 38, 'h': 172, 'w': 172}]}, 'orig': {'faces': [{'x': 370, 'y': 518, 'h': 35, 'w': 35}, {'x': 221, 'y': 368, 'h': 54, 'w': 54}, {'x': 198, 'y': 232, 'h': 66, 'w': 66}, {'x': 316, 'y': 97, 'h': 78, 'w': 78}, {'x': 559, 'y': 45, 'h': 203, 'w': 203}]}, 'medium': {'faces': [{'x': 370, 'y': 518, 'h': 35, 'w': 35}, {'x': 221, 'y': 368, 'h': 54, 'w': 54}, {'x': 198, 'y': 232, 'h': 66, 'w': 66}, {'x': 316, 'y': 97, 'h': 78, 'w': 78}, {'x': 559, 'y': 45, 'h': 203, 'w': 203}]}}, 'media_key': '3_1186118158584893441', 'ext_media_availability': {'status': 'available'}, 'ext_alt_text': None, 'ext_media_color': {'palette': [{'rgb': {'red': 53, 'green': 64, 'blue': 82}, 'percentage': 72.09}, {'rgb': {'red': 194, 'green': 194, 'blue': 194}, 'percentage': 17.69}, {'rgb': {'red': 247, 'green': 45, 'blue': 83}, 'percentage': 3.14}, {'rgb': {'red': 102, 'green': 110, 'blue': 122}, 'percentage': 1.84}, {'rgb': {'red': 156, 'green': 56, 'blue': 86}, 'percentage': 1.18}]}, 'ext': {'mediaStats': {'r': 'Missing', 'ttl': -1}}}]}, 'source': '<a href=\"https://buffer.com\" rel=\"nofollow\">Buffer</a>', 'user_id_str': '176414763', 'retweet_count': 441, 'favorite_count': 727, 'reply_count': 78, 'conversation_id_str': '1186118160287698944', 'possibly_sensitive_editable': True, 'lang': 'es'}\n"
     ]
    }
   ],
   "source": [
    "for key, value in json.items():\n",
    "    if key == value['conversation_id_str']:\n",
    "        print(value)"
   ]
  },
  {
   "cell_type": "code",
   "execution_count": null,
   "metadata": {},
   "outputs": [],
   "source": []
  }
 ],
 "metadata": {
  "kernelspec": {
   "display_name": "Python 3",
   "language": "python",
   "name": "python3"
  },
  "language_info": {
   "codemirror_mode": {
    "name": "ipython",
    "version": 3
   },
   "file_extension": ".py",
   "mimetype": "text/x-python",
   "name": "python",
   "nbconvert_exporter": "python",
   "pygments_lexer": "ipython3",
   "version": "3.6.8"
  }
 },
 "nbformat": 4,
 "nbformat_minor": 2
}
