{
 "cells": [
  {
   "cell_type": "code",
   "execution_count": 2,
   "metadata": {},
   "outputs": [],
   "source": [
    "import os\n",
    "import pickle\n",
    "from tweet import Reply, PostNew\n",
    "from collections import defaultdict"
   ]
  },
  {
   "cell_type": "code",
   "execution_count": 3,
   "metadata": {},
   "outputs": [],
   "source": [
    "ROOT_PICKLE = '../pickle/inputs/'"
   ]
  },
  {
   "cell_type": "code",
   "execution_count": 4,
   "metadata": {},
   "outputs": [],
   "source": [
    "lexicon_attack = ['falso', 'Falso', 'FALSO']"
   ]
  },
  {
   "cell_type": "markdown",
   "metadata": {},
   "source": [
    "**Primer resultado**"
   ]
  },
  {
   "cell_type": "code",
   "execution_count": 5,
   "metadata": {},
   "outputs": [],
   "source": [
    "with open(os.path.join(ROOT_PICKLE, 'chequeado1186118160287698944.json.pkl'), 'rb') as fd:\n",
    "    json = pickle.load(fd)"
   ]
  },
  {
   "cell_type": "code",
   "execution_count": 45,
   "metadata": {},
   "outputs": [],
   "source": [
    "def preprocessing(json):\n",
    "    replies = []\n",
    "    thread = defaultdict(list)\n",
    "    \n",
    "    for id_str, tweet in json.items():\n",
    "        \n",
    "        full_text = tweet['full_text']\n",
    "        reply_count = tweet['reply_count']\n",
    "        created_at = tweet['created_at']\n",
    "        display_text_range = tweet['display_text_range']\n",
    "        conversation_id_str = tweet['conversation_id_str']\n",
    "        \n",
    "        if id_str == conversation_id_str:\n",
    "            # POST\n",
    "            post = PostNew(id_str=id_str,\n",
    "                           created_at=created_at,\n",
    "                           reply_count=reply_count,\n",
    "                           display_text_range=display_text_range,\n",
    "                           conversation_id_str=conversation_id_str,\n",
    "                           full_text=full_text\n",
    "                          )\n",
    "        else:\n",
    "            in_reply_to_status_id_str = tweet['in_reply_to_status_id_str']\n",
    "\n",
    "            twt = Reply(created_at=created_at,\n",
    "                        full_text=full_text,\n",
    "                        id_str=id_str,\n",
    "                        reply_count=reply_count,\n",
    "                        #screen_name=screen_name,\n",
    "                        display_text_range=display_text_range,\n",
    "                        conversation_id_str=conversation_id_str,\n",
    "                        in_reply_to_status_id_str=in_reply_to_status_id_str\n",
    "                       )\n",
    "            \n",
    "            if in_reply_to_status_id_str == conversation_id_str:\n",
    "                # REPLY\n",
    "                replies.append(twt)\n",
    "            else:\n",
    "                # TRHEAD\n",
    "                thread[in_reply_to_status_id_str].append(twt)\n",
    "    \n",
    "    for reply in replies:\n",
    "        if reply.reply_count > 0:\n",
    "            reply.replies = thread[reply.id_str]\n",
    "            \n",
    "    post.replies = replies\n",
    "    return post"
   ]
  },
  {
   "cell_type": "code",
   "execution_count": 46,
   "metadata": {},
   "outputs": [],
   "source": [
    "post = preprocessing(json)"
   ]
  },
  {
   "cell_type": "code",
   "execution_count": 47,
   "metadata": {},
   "outputs": [
    {
     "data": {
      "text/plain": [
       "True"
      ]
     },
     "execution_count": 47,
     "metadata": {},
     "output_type": "execute_result"
    }
   ],
   "source": [
    "post.is_controversial(lexicon_attack)"
   ]
  },
  {
   "cell_type": "code",
   "execution_count": 49,
   "metadata": {},
   "outputs": [
    {
     "name": "stdout",
     "output_type": "stream",
     "text": [
      "R Tengo números que dicen lo contrario. Bajo. Bajo secuestros extorsivos. Pero no desaparecieron. Creo que Uds convenientemente usan el #EsVerdaderoPero. Sin embargo para mi aca es falso\n",
      "R Los de “CHEQUEADO” son independientes.... FALSO\n",
      "R cómo puede acreditar como verdadero un enunciado que contiene \"prácticamente\"? con este rigor dsp le ponen falso y exagerado a los demás\n",
      "R Al usar en la frase el \"prácticamente\" creo que anula el verdadero y el falso.\n"
     ]
    }
   ],
   "source": [
    "# Mostrar los tweets que atacan\n",
    "for reply in post.replies:\n",
    "    if reply.is_attack(lexicon_attack):\n",
    "        print(\"R {}\".format(reply.full_text))\n",
    "    if reply.replies:\n",
    "        for subreply in reply.replies:\n",
    "            if subreply.is_attack(lexicon_attack):\n",
    "                print(\"S {}\".format(subreply.full_text))"
   ]
  },
  {
   "cell_type": "code",
   "execution_count": 59,
   "metadata": {},
   "outputs": [],
   "source": [
    "with open(os.path.join(ROOT_PICKLE, 'example1iter.pkl'), 'wb') as fd:\n",
    "    pickle.dump(post, fd)"
   ]
  },
  {
   "cell_type": "markdown",
   "metadata": {},
   "source": [
    "**Segundo resultado**"
   ]
  },
  {
   "cell_type": "code",
   "execution_count": 50,
   "metadata": {},
   "outputs": [],
   "source": [
    "# See https://radimrehurek.com/gensim/models/word2vec.html\n",
    "from gensim.models import KeyedVectors"
   ]
  },
  {
   "cell_type": "code",
   "execution_count": 51,
   "metadata": {},
   "outputs": [],
   "source": [
    "model = KeyedVectors.load_word2vec_format(\"../model/SBW-vectors-300-min5.bin.gz\", binary=True)"
   ]
  },
  {
   "cell_type": "code",
   "execution_count": 52,
   "metadata": {},
   "outputs": [],
   "source": [
    "# ACA HAY PROBLEMAS CON EL LEXICON"
   ]
  },
  {
   "cell_type": "code",
   "execution_count": 55,
   "metadata": {},
   "outputs": [],
   "source": [
    "lexicon_attack_iter_2 = lexicon_attack + [word for word, d in model.most_similar(positive=[\"falso\", \"mentira\"])]"
   ]
  },
  {
   "cell_type": "code",
   "execution_count": 56,
   "metadata": {},
   "outputs": [
    {
     "data": {
      "text/plain": [
       "['falso',\n",
       " 'Falso',\n",
       " 'FALSO',\n",
       " 'falsa',\n",
       " 'mentirilla',\n",
       " 'verdad',\n",
       " 'fraudulencia',\n",
       " 'engaño',\n",
       " 'infundio',\n",
       " 'mentiras',\n",
       " 'andrómina',\n",
       " 'patraña',\n",
       " 'encubriéndola']"
      ]
     },
     "execution_count": 56,
     "metadata": {},
     "output_type": "execute_result"
    }
   ],
   "source": [
    "lexicon_attack_iter_2"
   ]
  },
  {
   "cell_type": "code",
   "execution_count": 58,
   "metadata": {},
   "outputs": [
    {
     "data": {
      "text/plain": [
       "True"
      ]
     },
     "execution_count": 58,
     "metadata": {},
     "output_type": "execute_result"
    }
   ],
   "source": [
    "post.is_controversial(lexicon_attack_iter_2)"
   ]
  },
  {
   "cell_type": "code",
   "execution_count": 63,
   "metadata": {},
   "outputs": [
    {
     "name": "stdout",
     "output_type": "stream",
     "text": [
      "R Tengo números que dicen lo contrario. Bajo. Bajo secuestros extorsivos. Pero no desaparecieron. Creo que Uds convenientemente usan el #EsVerdaderoPero. Sin embargo para mi aca es falso\n",
      "R Los de “CHEQUEADO” son independientes.... FALSO\n",
      "S No. El secuestro virtual efectivamente es una estafa (nadie fue secuestrado, ahí está el ardid o engaño, y te llaman pidiendo un rescate).\n",
      "R cómo puede acreditar como verdadero un enunciado que contiene \"prácticamente\"? con este rigor dsp le ponen falso y exagerado a los demás\n",
      "R Al usar en la frase el \"prácticamente\" creo que anula el verdadero y el falso.\n"
     ]
    }
   ],
   "source": [
    "# Mostrar los tweets que atacan\n",
    "for reply in post.replies:\n",
    "    if reply.is_attack(lexicon_attack_iter_2):\n",
    "        print(\"R {}\".format(reply.full_text))\n",
    "    if reply.replies:\n",
    "        for subreply in reply.replies:\n",
    "            if subreply.is_attack(lexicon_attack_iter_2):\n",
    "                print(\"S {}\".format(subreply.full_text))"
   ]
  },
  {
   "cell_type": "code",
   "execution_count": 64,
   "metadata": {},
   "outputs": [],
   "source": [
    "with open(os.path.join(ROOT_PICKLE, 'example2iter.pkl'), 'wb') as fd:\n",
    "    pickle.dump(post, fd)"
   ]
  },
  {
   "cell_type": "markdown",
   "metadata": {},
   "source": [
    "**API TWITTER**"
   ]
  },
  {
   "cell_type": "code",
   "execution_count": 25,
   "metadata": {},
   "outputs": [],
   "source": [
    "import tweepy"
   ]
  },
  {
   "cell_type": "code",
   "execution_count": 26,
   "metadata": {},
   "outputs": [],
   "source": [
    "CONSUMER_KEY = 'tRe3ZBhnXDPBEKyTi4ifvPTC7' \n",
    "CONSUMER_SECRET = '0dmQlSimyEmaOPiDoFZTF0wYjO0LSzSdWmCP7afZkNHZF94Af5'\n",
    "ACCESS_TOKEN = '421837149-YVewRWLSu8xyYNU1H4NtELUejGB8lzvT4KCfallG'\n",
    "ACCESS_SECRET = 'mFsKYpvJaWvZGHRoy874Z4IF09CRP69srlVj2yjN6mH5L'"
   ]
  },
  {
   "cell_type": "code",
   "execution_count": 27,
   "metadata": {},
   "outputs": [],
   "source": [
    "auth = tweepy.OAuthHandler(CONSUMER_KEY, CONSUMER_SECRET)\n",
    "auth.set_access_token(ACCESS_TOKEN, ACCESS_SECRET)\n",
    "\n",
    "api = tweepy.API(auth, wait_on_rate_limit=True, wait_on_rate_limit_notify=True)"
   ]
  },
  {
   "cell_type": "code",
   "execution_count": 32,
   "metadata": {},
   "outputs": [],
   "source": [
    "search = tweepy.Cursor(api.search, q=\"to:FedeFavre\", sinceId = 1188249861721919489).items()"
   ]
  }
 ],
 "metadata": {
  "kernelspec": {
   "display_name": "Python 3",
   "language": "python",
   "name": "python3"
  },
  "language_info": {
   "codemirror_mode": {
    "name": "ipython",
    "version": 3
   },
   "file_extension": ".py",
   "mimetype": "text/x-python",
   "name": "python",
   "nbconvert_exporter": "python",
   "pygments_lexer": "ipython3",
   "version": "3.6.8"
  }
 },
 "nbformat": 4,
 "nbformat_minor": 2
}
