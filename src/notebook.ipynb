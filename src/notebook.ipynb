{
 "cells": [
  {
   "cell_type": "code",
   "execution_count": 1,
   "metadata": {},
   "outputs": [],
   "source": [
    "import os\n",
    "import pickle\n",
    "from tweet import Reply, PostNew"
   ]
  },
  {
   "cell_type": "code",
   "execution_count": 2,
   "metadata": {},
   "outputs": [],
   "source": [
    "ROOT_PICKLE = '../pickle/'"
   ]
  },
  {
   "cell_type": "code",
   "execution_count": 3,
   "metadata": {},
   "outputs": [],
   "source": [
    "lexicon_attack = ['falso', 'Falso', 'FALSO']\n",
    "lexicon_support = ['verdad']"
   ]
  },
  {
   "cell_type": "markdown",
   "metadata": {},
   "source": [
    "**Primer resultado**"
   ]
  },
  {
   "cell_type": "code",
   "execution_count": 4,
   "metadata": {},
   "outputs": [],
   "source": [
    "# Corregir tweets del post, estoy guardando todos como si fuesen respuestas del tweet, y no lo son\n",
    "# hay tweets que son respuestas de las respuestas"
   ]
  },
  {
   "cell_type": "code",
   "execution_count": 5,
   "metadata": {},
   "outputs": [],
   "source": [
    "with open(os.path.join(ROOT_PICKLE, 'chequeado1186118160287698944.json.pkl'), 'rb') as fd:\n",
    "    json = pickle.load(fd)"
   ]
  },
  {
   "cell_type": "code",
   "execution_count": 6,
   "metadata": {},
   "outputs": [],
   "source": [
    "def preprocessing(json):\n",
    "    replies = []\n",
    "    post = None\n",
    "    for id_str, tweet in json.items():\n",
    "        \n",
    "        full_text = tweet['full_text']\n",
    "        reply_count = tweet['reply_count']\n",
    "        created_at = tweet['created_at']\n",
    "        display_text_range = tweet['display_text_range']\n",
    "        conversation_id_str = tweet['conversation_id_str']\n",
    "        \n",
    "        if id_str == conversation_id_str:\n",
    "            post = PostNew(id_str=id_str,\n",
    "                           created_at=created_at,\n",
    "                           reply_count=reply_count,\n",
    "                           display_text_range=display_text_range,\n",
    "                           conversation_id_str=conversation_id_str,\n",
    "                           full_text=full_text\n",
    "                          )\n",
    "        else:\n",
    "            in_reply_to_status_id_str = tweet['in_reply_to_status_id_str']\n",
    "            #screen_name = tweet['screen_name']\n",
    "            twt = Reply(created_at=created_at,\n",
    "                        full_text=full_text,\n",
    "                        id_str=id_str,\n",
    "                        reply_count=reply_count,\n",
    "                        #screen_name=screen_name,\n",
    "                        display_text_range=display_text_range,\n",
    "                        conversation_id_str=conversation_id_str,\n",
    "                        in_reply_to_status_id_str=in_reply_to_status_id_str\n",
    "                       )\n",
    "            replies.append(twt)\n",
    "    post.replies = replies\n",
    "    return post"
   ]
  },
  {
   "cell_type": "code",
   "execution_count": 7,
   "metadata": {},
   "outputs": [],
   "source": [
    "post = preprocessing(json)"
   ]
  },
  {
   "cell_type": "code",
   "execution_count": 9,
   "metadata": {},
   "outputs": [
    {
     "data": {
      "text/plain": [
       "'1186118160287698944'"
      ]
     },
     "execution_count": 9,
     "metadata": {},
     "output_type": "execute_result"
    }
   ],
   "source": [
    "post.id_str"
   ]
  },
  {
   "cell_type": "code",
   "execution_count": 12,
   "metadata": {},
   "outputs": [
    {
     "data": {
      "text/plain": [
       "['Pero',\n",
       " 'eso',\n",
       " 'tiene',\n",
       " 'algo',\n",
       " 'que',\n",
       " 'ver',\n",
       " 'con',\n",
       " 'que',\n",
       " 'aumentó',\n",
       " 'el',\n",
       " 'número',\n",
       " 'de',\n",
       " 'familias',\n",
       " 'pobres',\n",
       " '?',\n",
       " 'Cada',\n",
       " 'vez',\n",
       " 'hay',\n",
       " 'menos',\n",
       " 'donde',\n",
       " 'secuestrar',\n",
       " '.',\n",
       " 'No',\n",
       " '?']"
      ]
     },
     "execution_count": 12,
     "metadata": {},
     "output_type": "execute_result"
    }
   ],
   "source": [
    "post.replies[0].tokens"
   ]
  },
  {
   "cell_type": "code",
   "execution_count": 15,
   "metadata": {},
   "outputs": [
    {
     "data": {
      "text/plain": [
       "True"
      ]
     },
     "execution_count": 15,
     "metadata": {},
     "output_type": "execute_result"
    }
   ],
   "source": [
    "post.is_controversial(lexicon_attack)"
   ]
  },
  {
   "cell_type": "code",
   "execution_count": 39,
   "metadata": {},
   "outputs": [],
   "source": [
    "threads = post.get_threads()"
   ]
  },
  {
   "cell_type": "code",
   "execution_count": 16,
   "metadata": {},
   "outputs": [
    {
     "data": {
      "text/plain": [
       "['Tengo números que dicen lo contrario. Bajo. Bajo secuestros extorsivos. Pero no desaparecieron. Creo que Uds convenientemente usan el #EsVerdaderoPero. Sin embargo para mi aca es falso',\n",
       " 'Los de “CHEQUEADO” son independientes.... FALSO',\n",
       " 'cómo puede acreditar como verdadero un enunciado que contiene \"prácticamente\"? con este rigor dsp le ponen falso y exagerado a los demás',\n",
       " 'Al usar en la frase el \"prácticamente\" creo que anula el verdadero y el falso.']"
      ]
     },
     "execution_count": 16,
     "metadata": {},
     "output_type": "execute_result"
    }
   ],
   "source": [
    "# Primera iteracion del pipeline\n",
    "[tweet.full_text for tweet in post.replies_attack()]"
   ]
  },
  {
   "cell_type": "markdown",
   "metadata": {},
   "source": [
    "**Segundo resultado**"
   ]
  },
  {
   "cell_type": "code",
   "execution_count": 10,
   "metadata": {},
   "outputs": [],
   "source": [
    "# See https://radimrehurek.com/gensim/models/word2vec.html\n",
    "from gensim.models import KeyedVectors"
   ]
  },
  {
   "cell_type": "code",
   "execution_count": 7,
   "metadata": {},
   "outputs": [],
   "source": [
    "model = KeyedVectors.load_word2vec_format(\"../model/SBW-vectors-300-min5.bin.gz\", binary=True)"
   ]
  },
  {
   "cell_type": "code",
   "execution_count": 47,
   "metadata": {},
   "outputs": [],
   "source": [
    "lexicon_attack += [word for word, d in model.most_similar(positive=[\"falso\", \"mentira\"])]"
   ]
  },
  {
   "cell_type": "code",
   "execution_count": 48,
   "metadata": {},
   "outputs": [
    {
     "data": {
      "text/plain": [
       "['falso',\n",
       " 'Falso',\n",
       " 'FALSO',\n",
       " 'falsa',\n",
       " 'mentirilla',\n",
       " 'verdad',\n",
       " 'fraudulencia',\n",
       " 'engaño',\n",
       " 'infundio',\n",
       " 'mentiras',\n",
       " 'andrómina',\n",
       " 'patraña',\n",
       " 'encubriéndola']"
      ]
     },
     "execution_count": 48,
     "metadata": {},
     "output_type": "execute_result"
    }
   ],
   "source": [
    "lexicon_attack"
   ]
  },
  {
   "cell_type": "code",
   "execution_count": 35,
   "metadata": {},
   "outputs": [],
   "source": [
    "# Segunda iteracion del pipeline"
   ]
  },
  {
   "cell_type": "code",
   "execution_count": 49,
   "metadata": {},
   "outputs": [
    {
     "data": {
      "text/plain": [
       "True"
      ]
     },
     "execution_count": 49,
     "metadata": {},
     "output_type": "execute_result"
    }
   ],
   "source": [
    "post.is_controversial(lexicon_attack)"
   ]
  },
  {
   "cell_type": "code",
   "execution_count": 50,
   "metadata": {},
   "outputs": [
    {
     "data": {
      "text/plain": [
       "['Tengo números que dicen lo contrario. Bajo. Bajo secuestros extorsivos. Pero no desaparecieron. Creo que Uds convenientemente usan el #EsVerdaderoPero. Sin embargo para mi aca es falso',\n",
       " 'Los de “CHEQUEADO” son independientes.... FALSO',\n",
       " 'cómo puede acreditar como verdadero un enunciado que contiene \"prácticamente\"? con este rigor dsp le ponen falso y exagerado a los demás',\n",
       " 'No. El secuestro virtual efectivamente es una estafa (nadie fue secuestrado, ahí está el ardid o engaño, y te llaman pidiendo un rescate).',\n",
       " 'Al usar en la frase el \"prácticamente\" creo que anula el verdadero y el falso.']"
      ]
     },
     "execution_count": 50,
     "metadata": {},
     "output_type": "execute_result"
    }
   ],
   "source": [
    "[tweet.full_text for tweet in post.replies_attack()]"
   ]
  },
  {
   "cell_type": "markdown",
   "metadata": {},
   "source": [
    "**Tercer resultado**\n",
    "\n",
    "flask"
   ]
  },
  {
   "cell_type": "markdown",
   "metadata": {},
   "source": [
    "**API TWITTER**"
   ]
  },
  {
   "cell_type": "code",
   "execution_count": 25,
   "metadata": {},
   "outputs": [],
   "source": [
    "import tweepy"
   ]
  },
  {
   "cell_type": "code",
   "execution_count": 26,
   "metadata": {},
   "outputs": [],
   "source": [
    "CONSUMER_KEY = 'tRe3ZBhnXDPBEKyTi4ifvPTC7' \n",
    "CONSUMER_SECRET = '0dmQlSimyEmaOPiDoFZTF0wYjO0LSzSdWmCP7afZkNHZF94Af5'\n",
    "ACCESS_TOKEN = '421837149-YVewRWLSu8xyYNU1H4NtELUejGB8lzvT4KCfallG'\n",
    "ACCESS_SECRET = 'mFsKYpvJaWvZGHRoy874Z4IF09CRP69srlVj2yjN6mH5L'"
   ]
  },
  {
   "cell_type": "code",
   "execution_count": 27,
   "metadata": {},
   "outputs": [],
   "source": [
    "auth = tweepy.OAuthHandler(CONSUMER_KEY, CONSUMER_SECRET)\n",
    "auth.set_access_token(ACCESS_TOKEN, ACCESS_SECRET)\n",
    "\n",
    "api = tweepy.API(auth, wait_on_rate_limit=True, wait_on_rate_limit_notify=True)"
   ]
  },
  {
   "cell_type": "code",
   "execution_count": 32,
   "metadata": {},
   "outputs": [],
   "source": [
    "search = tweepy.Cursor(api.search, q=\"to:FedeFavre\", sinceId = 1188249861721919489).items()"
   ]
  }
 ],
 "metadata": {
  "kernelspec": {
   "display_name": "Python 3",
   "language": "python",
   "name": "python3"
  },
  "language_info": {
   "codemirror_mode": {
    "name": "ipython",
    "version": 3
   },
   "file_extension": ".py",
   "mimetype": "text/x-python",
   "name": "python",
   "nbconvert_exporter": "python",
   "pygments_lexer": "ipython3",
   "version": "3.6.8"
  }
 },
 "nbformat": 4,
 "nbformat_minor": 2
}
