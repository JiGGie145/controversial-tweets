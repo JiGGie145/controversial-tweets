{
 "cells": [
  {
   "cell_type": "code",
   "execution_count": 1,
   "metadata": {},
   "outputs": [],
   "source": [
    "import os\n",
    "import pickle\n",
    "from gensim.models import KeyedVectors\n",
    "from gensim.models.wrappers import FastText"
   ]
  },
  {
   "cell_type": "code",
   "execution_count": 11,
   "metadata": {},
   "outputs": [],
   "source": [
    "from tweet.tweet import Tweet\n",
    "from preprocessing import preprocessing, tree_create"
   ]
  },
  {
   "cell_type": "code",
   "execution_count": 3,
   "metadata": {},
   "outputs": [
    {
     "name": "stdout",
     "output_type": "stream",
     "text": [
      "CPU times: user 36.1 s, sys: 1.64 s, total: 37.8 s\n",
      "Wall time: 37.8 s\n"
     ]
    }
   ],
   "source": [
    "%%time\n",
    "modelw2v = KeyedVectors.load_word2vec_format(\"../model/SBW-vectors-300-min5.bin\", binary=True)"
   ]
  },
  {
   "cell_type": "code",
   "execution_count": null,
   "metadata": {},
   "outputs": [],
   "source": [
    "%%time\n",
    "modelft = FastText.load_fasttext_format('../model/SENTIMENT_UBA_v4_d100.bin')"
   ]
  },
  {
   "cell_type": "code",
   "execution_count": 4,
   "metadata": {},
   "outputs": [],
   "source": [
    "ROOT_OUT = '../pickle/'"
   ]
  },
  {
   "cell_type": "code",
   "execution_count": 5,
   "metadata": {},
   "outputs": [],
   "source": [
    "lexicon_attack = ['falso', 'mentira']"
   ]
  },
  {
   "cell_type": "code",
   "execution_count": 6,
   "metadata": {},
   "outputs": [],
   "source": [
    "# Lexicon esperado\n",
    "expected_lexicon = ['mentira', 'mentiroso', 'falso', 'mentirosa', 'verdad', 'verdadero', 'engañoso']"
   ]
  },
  {
   "cell_type": "markdown",
   "metadata": {},
   "source": [
    "## Pipeline"
   ]
  },
  {
   "cell_type": "markdown",
   "metadata": {},
   "source": [
    "**Primer resultado**"
   ]
  },
  {
   "cell_type": "code",
   "execution_count": 12,
   "metadata": {},
   "outputs": [],
   "source": [
    "def tagged(tweets, root, lexicon, model, n):\n",
    "    lexicons = [lexicon]\n",
    "    tree = tree_create(tweets, root)\n",
    "    \n",
    "    for i in range(n):\n",
    "        if 0 < i:\n",
    "            new = lexicons[i-1] + [word for word, d in model.most_similar(positive=lexicons[i-1])]\n",
    "            lexicons.append(new)\n",
    "       \n",
    "        for _, tweet in tweets.items():\n",
    "            \n",
    "            if tweet.stance == 'neutral':\n",
    "                tweet.is_attack(lexicons[i])\n",
    "            \n",
    "            if tweet.stance == 'neutral':\n",
    "                tweet.is_support()\n",
    "        \n",
    "        name = root + 'n' + str(i) + '.pkl'\n",
    "        with open(os.path.join(ROOT_OUT, name), 'wb') as fd:\n",
    "            pickle.dump(tree, fd)\n",
    "    \n",
    "    return lexicons"
   ]
  },
  {
   "cell_type": "code",
   "execution_count": 13,
   "metadata": {
    "scrolled": true
   },
   "outputs": [],
   "source": [
    "tweets, root = preprocessing('perfil.status.1191780164549697536.json')\n",
    "lexicons = tagged(tweets, root, lexicon_attack, modelw2v, 3)"
   ]
  },
  {
   "cell_type": "code",
   "execution_count": 15,
   "metadata": {},
   "outputs": [
    {
     "data": {
      "text/plain": [
       "defaultdict(None,\n",
       "            {'1191780164549697536': <tweet.tweet.Tweet at 0x7f34b300ab10>,\n",
       "             '1191853142679392256': <tweet.tweet.Tweet at 0x7f34b300a910>,\n",
       "             '1191852615610634241': <tweet.tweet.Tweet at 0x7f34b300acd0>,\n",
       "             '1191852483368423431': <tweet.tweet.Tweet at 0x7f34b2f275d0>,\n",
       "             '1191852483179696129': <tweet.tweet.Tweet at 0x7f35681944d0>,\n",
       "             '1191851745250553856': <tweet.tweet.Tweet at 0x7f34b3008d10>,\n",
       "             '1191849641781944321': <tweet.tweet.Tweet at 0x7f34b2f22190>,\n",
       "             '1191849191582109696': <tweet.tweet.Tweet at 0x7f34b2f1f850>,\n",
       "             '1191848927290707976': <tweet.tweet.Tweet at 0x7f34b2f1ffd0>,\n",
       "             '1191848323352813568': <tweet.tweet.Tweet at 0x7f34b2f227d0>,\n",
       "             '1191847834670292993': <tweet.tweet.Tweet at 0x7f34b2f90490>,\n",
       "             '1191847148452753410': <tweet.tweet.Tweet at 0x7f34b2f1f250>,\n",
       "             '1191846947642064896': <tweet.tweet.Tweet at 0x7f34b2f24990>,\n",
       "             '1191845924957499394': <tweet.tweet.Tweet at 0x7f34b2f24c90>,\n",
       "             '1191845614528667649': <tweet.tweet.Tweet at 0x7f34b2f24b50>,\n",
       "             '1191844784224251904': <tweet.tweet.Tweet at 0x7f34b2f22090>,\n",
       "             '1191844451066564608': <tweet.tweet.Tweet at 0x7f34b2f1f910>,\n",
       "             '1191843624985731074': <tweet.tweet.Tweet at 0x7f34b2f24090>,\n",
       "             '1191843014156673024': <tweet.tweet.Tweet at 0x7f34b2f24e10>,\n",
       "             '1191842083822358528': <tweet.tweet.Tweet at 0x7f34b2f223d0>,\n",
       "             '1191841726064975874': <tweet.tweet.Tweet at 0x7f34b2f240d0>,\n",
       "             '1191841691910713345': <tweet.tweet.Tweet at 0x7f34b2f25fd0>,\n",
       "             '1191843023291912192': <tweet.tweet.Tweet at 0x7f34b2f27990>,\n",
       "             '1191847576057892864': <tweet.tweet.Tweet at 0x7f34b2f29b50>,\n",
       "             '1191851355419348995': <tweet.tweet.Tweet at 0x7f34b2f29d50>,\n",
       "             '1191844964961071105': <tweet.tweet.Tweet at 0x7f34b2f24450>,\n",
       "             '1191851907830231040': <tweet.tweet.Tweet at 0x7f34b2f198d0>,\n",
       "             '1191841591734001665': <tweet.tweet.Tweet at 0x7f34b2f19d50>,\n",
       "             '1191841352025333760': <tweet.tweet.Tweet at 0x7f34b2f1d8d0>,\n",
       "             '1191841164011462656': <tweet.tweet.Tweet at 0x7f34b2f1df90>,\n",
       "             '1191841105358266368': <tweet.tweet.Tweet at 0x7f34b2f25650>,\n",
       "             '1191840738692218880': <tweet.tweet.Tweet at 0x7f34b2f19350>,\n",
       "             '1191840594450096128': <tweet.tweet.Tweet at 0x7f34b2f1ec90>,\n",
       "             '1191852110276677636': <tweet.tweet.Tweet at 0x7f34b2f1efd0>,\n",
       "             '1191849127161806848': <tweet.tweet.Tweet at 0x7f34b2f1e6d0>,\n",
       "             '1191840555833217024': <tweet.tweet.Tweet at 0x7f34b2f19990>,\n",
       "             '1191840444092690437': <tweet.tweet.Tweet at 0x7f34b2f1d690>,\n",
       "             '1191840294771347458': <tweet.tweet.Tweet at 0x7f34b2f20f10>,\n",
       "             '1191839375321161728': <tweet.tweet.Tweet at 0x7f34b2f2e950>,\n",
       "             '1191839301295857666': <tweet.tweet.Tweet at 0x7f34b2f2eb10>,\n",
       "             '1191837408003854336': <tweet.tweet.Tweet at 0x7f34b2f20810>,\n",
       "             '1191836757345615872': <tweet.tweet.Tweet at 0x7f34b2f1e250>,\n",
       "             '1191836514214391809': <tweet.tweet.Tweet at 0x7f34b2f2e4d0>,\n",
       "             '1191835717556719616': <tweet.tweet.Tweet at 0x7f34b2f2fa50>,\n",
       "             '1191835492800708608': <tweet.tweet.Tweet at 0x7f34b2f2fd90>,\n",
       "             '1191834904864215040': <tweet.tweet.Tweet at 0x7f34b2f1e290>,\n",
       "             '1191834576437600261': <tweet.tweet.Tweet at 0x7f34b2f2e210>,\n",
       "             '1191833657939501057': <tweet.tweet.Tweet at 0x7f34b2f2e050>,\n",
       "             '1191833045256560640': <tweet.tweet.Tweet at 0x7f34b2f2e250>,\n",
       "             '1191832263564177408': <tweet.tweet.Tweet at 0x7f34b2f1d9d0>,\n",
       "             '1191831934172909574': <tweet.tweet.Tweet at 0x7f34b2f327d0>,\n",
       "             '1191831925880754176': <tweet.tweet.Tweet at 0x7f34b2f32690>,\n",
       "             '1191831423201808390': <tweet.tweet.Tweet at 0x7f34b2f2f410>,\n",
       "             '1191830898544648193': <tweet.tweet.Tweet at 0x7f34b2f33f50>,\n",
       "             '1191830423153922049': <tweet.tweet.Tweet at 0x7f34b2f332d0>,\n",
       "             '1191830372339900417': <tweet.tweet.Tweet at 0x7f34b2f32c10>,\n",
       "             '1191828533141790727': <tweet.tweet.Tweet at 0x7f34b2f2fcd0>,\n",
       "             '1191828187526975489': <tweet.tweet.Tweet at 0x7f34b2f33a50>,\n",
       "             '1191827999987052544': <tweet.tweet.Tweet at 0x7f34b2fe4a10>,\n",
       "             '1191827861876944896': <tweet.tweet.Tweet at 0x7f34b2f374d0>,\n",
       "             '1191827686227709952': <tweet.tweet.Tweet at 0x7f34b2f2f150>,\n",
       "             '1191853495399395329': <tweet.tweet.Tweet at 0x7f34b2f2ef90>,\n",
       "             '1191827577901649920': <tweet.tweet.Tweet at 0x7f34b2f3ad50>,\n",
       "             '1191827164376817665': <tweet.tweet.Tweet at 0x7f34b2f335d0>,\n",
       "             '1191827121099988993': <tweet.tweet.Tweet at 0x7f34b2f3bad0>,\n",
       "             '1191826806220832768': <tweet.tweet.Tweet at 0x7f34b2f3bb10>,\n",
       "             '1191826694123991041': <tweet.tweet.Tweet at 0x7f34b2f3a110>,\n",
       "             '1191826670371704832': <tweet.tweet.Tweet at 0x7f34b2f3ac50>,\n",
       "             '1191826570551447553': <tweet.tweet.Tweet at 0x7f34b2f3add0>,\n",
       "             '1191826294192967681': <tweet.tweet.Tweet at 0x7f34b2f3ca50>,\n",
       "             '1191825988193263617': <tweet.tweet.Tweet at 0x7f34b2f3ce10>,\n",
       "             '1191825492548169728': <tweet.tweet.Tweet at 0x7f34b2f3a410>,\n",
       "             '1191825230899089410': <tweet.tweet.Tweet at 0x7f34b2f3b850>,\n",
       "             '1191825071989506048': <tweet.tweet.Tweet at 0x7f34b2f3bc50>,\n",
       "             '1191824775473221633': <tweet.tweet.Tweet at 0x7f34b2f3b450>,\n",
       "             '1191844728872095744': <tweet.tweet.Tweet at 0x7f34b2f3a6d0>,\n",
       "             '1191824729084190721': <tweet.tweet.Tweet at 0x7f34b2f370d0>,\n",
       "             '1191824613157851136': <tweet.tweet.Tweet at 0x7f34b2f3ff50>,\n",
       "             '1191823630449205248': <tweet.tweet.Tweet at 0x7f34b2f3f4d0>,\n",
       "             '1191823490715967489': <tweet.tweet.Tweet at 0x7f34b2f3abd0>,\n",
       "             '1191823403998728192': <tweet.tweet.Tweet at 0x7f34b2f41dd0>,\n",
       "             '1191823315268259841': <tweet.tweet.Tweet at 0x7f34b2f3c410>,\n",
       "             '1191822414629527552': <tweet.tweet.Tweet at 0x7f34b2f3fad0>,\n",
       "             '1191822392219389958': <tweet.tweet.Tweet at 0x7f34b2f3be50>,\n",
       "             '1191822000081252352': <tweet.tweet.Tweet at 0x7f34b2f43490>,\n",
       "             '1191821720463794178': <tweet.tweet.Tweet at 0x7f34b2f43c10>,\n",
       "             '1191821256217235456': <tweet.tweet.Tweet at 0x7f34b2f3c850>,\n",
       "             '1191820831581712384': <tweet.tweet.Tweet at 0x7f34b2f45d10>,\n",
       "             '1191820667194355717': <tweet.tweet.Tweet at 0x7f34b2f45410>,\n",
       "             '1191820441645662209': <tweet.tweet.Tweet at 0x7f34b2f43910>,\n",
       "             '1191820244014313478': <tweet.tweet.Tweet at 0x7f34b2f46b50>,\n",
       "             '1191820009267441665': <tweet.tweet.Tweet at 0x7f34b2f46bd0>,\n",
       "             '1191819966640726019': <tweet.tweet.Tweet at 0x7f34b2f45890>,\n",
       "             '1191819959250366465': <tweet.tweet.Tweet at 0x7f34b2f43110>,\n",
       "             '1191819601228836871': <tweet.tweet.Tweet at 0x7f34b2f465d0>,\n",
       "             '1191819525316128769': <tweet.tweet.Tweet at 0x7f34b2f46cd0>,\n",
       "             '1191819121320742922': <tweet.tweet.Tweet at 0x7f34b2f48e90>,\n",
       "             '1191818684811087872': <tweet.tweet.Tweet at 0x7f34b2f48550>,\n",
       "             '1191818611184283648': <tweet.tweet.Tweet at 0x7f34b2f4ae10>,\n",
       "             '1191818476463243269': <tweet.tweet.Tweet at 0x7f34b2f41ed0>,\n",
       "             '1191817899515764739': <tweet.tweet.Tweet at 0x7f34b2f4bdd0>,\n",
       "             '1191817686323478529': <tweet.tweet.Tweet at 0x7f34b2f4a210>,\n",
       "             '1191817258689060865': <tweet.tweet.Tweet at 0x7f34b2f4a450>,\n",
       "             '1191816933265596420': <tweet.tweet.Tweet at 0x7f34b2f45a90>,\n",
       "             '1191816901422440450': <tweet.tweet.Tweet at 0x7f34b2f4bc50>,\n",
       "             '1191844293478096896': <tweet.tweet.Tweet at 0x7f34b2f4de10>,\n",
       "             '1191822884647440384': <tweet.tweet.Tweet at 0x7f34b2f45850>,\n",
       "             '1191844441172193283': <tweet.tweet.Tweet at 0x7f34b2f45990>,\n",
       "             '1191842439310577670': <tweet.tweet.Tweet at 0x7f34b2f3fe10>,\n",
       "             '1191816882988421120': <tweet.tweet.Tweet at 0x7f34b2f4d950>,\n",
       "             '1191816842861596672': <tweet.tweet.Tweet at 0x7f34b2f4ef10>,\n",
       "             '1191816612959203329': <tweet.tweet.Tweet at 0x7f34b2f4b3d0>,\n",
       "             '1191816414316904448': <tweet.tweet.Tweet at 0x7f34b2f4d390>,\n",
       "             '1191815946975023109': <tweet.tweet.Tweet at 0x7f34b2f45b10>,\n",
       "             '1191815736940994565': <tweet.tweet.Tweet at 0x7f34b2f50fd0>,\n",
       "             '1191815721963130880': <tweet.tweet.Tweet at 0x7f34b2f4e650>,\n",
       "             '1191815394971078656': <tweet.tweet.Tweet at 0x7f34b2f52b90>,\n",
       "             '1191815001180426241': <tweet.tweet.Tweet at 0x7f34b2f54290>,\n",
       "             '1191814750830768130': <tweet.tweet.Tweet at 0x7f34b2f54cd0>,\n",
       "             '1191814621302337537': <tweet.tweet.Tweet at 0x7f34b2f50790>,\n",
       "             '1191814060981071872': <tweet.tweet.Tweet at 0x7f34b2f4e3d0>,\n",
       "             '1191814057357172737': <tweet.tweet.Tweet at 0x7f34b2f52110>,\n",
       "             '1191813676245962754': <tweet.tweet.Tweet at 0x7f34b2f548d0>,\n",
       "             '1191813524776980480': <tweet.tweet.Tweet at 0x7f34b2ed6e50>,\n",
       "             '1191813490887012352': <tweet.tweet.Tweet at 0x7f34b2ed6990>,\n",
       "             '1191813429939638272': <tweet.tweet.Tweet at 0x7f34b2f52e50>,\n",
       "             '1191813066767421441': <tweet.tweet.Tweet at 0x7f34b2ed79d0>,\n",
       "             '1191812997104250880': <tweet.tweet.Tweet at 0x7f34b2ed7c90>,\n",
       "             '1191812666119073793': <tweet.tweet.Tweet at 0x7f34b2ed9810>,\n",
       "             '1191812534766129152': <tweet.tweet.Tweet at 0x7f34b2ed7590>,\n",
       "             '1191812411088670720': <tweet.tweet.Tweet at 0x7f34b2ed7890>,\n",
       "             '1191853251563597824': <tweet.tweet.Tweet at 0x7f34b2ed60d0>,\n",
       "             '1191847112981569536': <tweet.tweet.Tweet at 0x7f34b2ed9450>,\n",
       "             '1191812121581015044': <tweet.tweet.Tweet at 0x7f34b2edce50>,\n",
       "             '1191811902004965377': <tweet.tweet.Tweet at 0x7f34b2edcfd0>,\n",
       "             '1191811565101756416': <tweet.tweet.Tweet at 0x7f34b2ed9950>,\n",
       "             '1191811390861905921': <tweet.tweet.Tweet at 0x7f34b2eded90>,\n",
       "             '1191811146375946240': <tweet.tweet.Tweet at 0x7f34b2ede350>,\n",
       "             '1191811023537393664': <tweet.tweet.Tweet at 0x7f34b2ed7110>,\n",
       "             '1191810851881263107': <tweet.tweet.Tweet at 0x7f34b2edc5d0>,\n",
       "             '1191810737360056321': <tweet.tweet.Tweet at 0x7f34b2f4e150>,\n",
       "             '1191810547622326272': <tweet.tweet.Tweet at 0x7f34b2edfe50>,\n",
       "             '1191810466034716672': <tweet.tweet.Tweet at 0x7f34b2f54b10>,\n",
       "             '1191810354738798592': <tweet.tweet.Tweet at 0x7f34b2ede210>,\n",
       "             '1191810254096523265': <tweet.tweet.Tweet at 0x7f34b2ed9290>,\n",
       "             '1191809952567975937': <tweet.tweet.Tweet at 0x7f34b2f54a90>,\n",
       "             '1191809820090871815': <tweet.tweet.Tweet at 0x7f34b2ee2810>,\n",
       "             '1191814095009468420': <tweet.tweet.Tweet at 0x7f34b2ee2150>})"
      ]
     },
     "execution_count": 15,
     "metadata": {},
     "output_type": "execute_result"
    }
   ],
   "source": [
    "for s, t in tweets.items():\n",
    "    t.stance"
   ]
  },
  {
   "cell_type": "code",
   "execution_count": null,
   "metadata": {},
   "outputs": [],
   "source": [
    "# UNA IDEA PRIMERO CALCULAR LOS LEXICONES Y DESPUES TAGGEAR"
   ]
  },
  {
   "cell_type": "markdown",
   "metadata": {},
   "source": [
    "IDEA FRANCO:\n",
    "\n",
    "1- AGRANDO LEXICON A PARTIR DEL MODELO DE CRISTIAN\n",
    "\n",
    "2- CALCULO UN UMBRAL DEL MODELO DE CRISTIAN\n",
    "\n",
    "3- PARA CADA (PALABRAL, TOKENT) DEL LEXICON X TWEET, SI DISTANCIA(PALABRAL, TOKENT) > UMBRAL ENTONCES LEXICON + TOKENT "
   ]
  },
  {
   "cell_type": "code",
   "execution_count": null,
   "metadata": {},
   "outputs": [],
   "source": [
    "from itertools import product"
   ]
  },
  {
   "cell_type": "code",
   "execution_count": null,
   "metadata": {},
   "outputs": [],
   "source": [
    "def taggedcross(modelft, tweets, root, lexicon, u, n):\n",
    "    \n",
    "    lexicons = [lexicon]\n",
    "    #tree = tree_create(tweets, root)\n",
    "    for i in range(n):\n",
    "        new = lexicons[i]\n",
    "        for _, tweet in tweets.items():\n",
    "            \n",
    "            merge = product(lexicons[i], tweet.tokens)\n",
    "\n",
    "            for wordl, token in list(merge):\n",
    "                if wordl and token in modelft.wv.vocab:\n",
    "                    if modelft.similarity(wordl, token) >= u:\n",
    "                        if token not in lexicon_attack:\n",
    "                            new.append(token)\n",
    "        \n",
    "        lexicons.append(new)\n",
    "    return lexicons"
   ]
  },
  {
   "cell_type": "code",
   "execution_count": null,
   "metadata": {},
   "outputs": [],
   "source": [
    "tweets, root = preprocessing('perfil.status.1191780164549697536.json')"
   ]
  },
  {
   "cell_type": "code",
   "execution_count": null,
   "metadata": {},
   "outputs": [],
   "source": [
    "lexicons = taggedcross(modelft, tweets, root, lexicon_attack, 0.65, 3)"
   ]
  },
  {
   "cell_type": "code",
   "execution_count": null,
   "metadata": {},
   "outputs": [],
   "source": [
    "len(lexicons[2])"
   ]
  },
  {
   "cell_type": "code",
   "execution_count": null,
   "metadata": {},
   "outputs": [],
   "source": [
    "w = filter(lambda x: x in modelw2v.vocab, lexicon_attack)\n",
    "lexicon_attack += [word for word, d in modelw2v.most_similar(positive=w)]"
   ]
  },
  {
   "cell_type": "code",
   "execution_count": null,
   "metadata": {
    "scrolled": true
   },
   "outputs": [],
   "source": [
    "lexicon_attack"
   ]
  },
  {
   "cell_type": "code",
   "execution_count": null,
   "metadata": {},
   "outputs": [],
   "source": [
    "import nltk.translate.bleu_score as bleu\n",
    "print('BLEU score: {}'.format(bleu.sentence_bleu(tree.replies[19].tokens, tree.tokens)))"
   ]
  },
  {
   "cell_type": "markdown",
   "metadata": {},
   "source": [
    "**API TWITTER**"
   ]
  },
  {
   "cell_type": "code",
   "execution_count": null,
   "metadata": {},
   "outputs": [],
   "source": [
    "CONSUMER_KEY = 'tRe3ZBhnXDPBEKyTi4ifvPTC7' \n",
    "CONSUMER_SECRET = '0dmQlSimyEmaOPiDoFZTF0wYjO0LSzSdWmCP7afZkNHZF94Af5'\n",
    "ACCESS_TOKEN = '421837149-YVewRWLSu8xyYNU1H4NtELUejGB8lzvT4KCfallG'\n",
    "ACCESS_SECRET = 'mFsKYpvJaWvZGHRoy874Z4IF09CRP69srlVj2yjN6mH5L'"
   ]
  }
 ],
 "metadata": {
  "kernelspec": {
   "display_name": "Python 3",
   "language": "python",
   "name": "python3"
  },
  "language_info": {
   "codemirror_mode": {
    "name": "ipython",
    "version": 3
   },
   "file_extension": ".py",
   "mimetype": "text/x-python",
   "name": "python",
   "nbconvert_exporter": "python",
   "pygments_lexer": "ipython3",
   "version": "3.7.4+"
  }
 },
 "nbformat": 4,
 "nbformat_minor": 2
}
