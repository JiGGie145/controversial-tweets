{
 "cells": [
  {
   "cell_type": "code",
   "execution_count": 1,
   "metadata": {},
   "outputs": [],
   "source": [
    "import os\n",
    "import pickle\n",
    "from itertools import product\n",
    "from gensim.models.wrappers import FastText"
   ]
  },
  {
   "cell_type": "code",
   "execution_count": 6,
   "metadata": {},
   "outputs": [],
   "source": [
    "from tweet.tweet import Tweet\n",
    "from preprocessing import preprocessing, tree_create"
   ]
  },
  {
   "cell_type": "code",
   "execution_count": 2,
   "metadata": {},
   "outputs": [],
   "source": [
    "modelft = FastText.load_fasttext_format('../model/SENTIMENT_UBA_v4_d100.bin')"
   ]
  },
  {
   "cell_type": "code",
   "execution_count": 88,
   "metadata": {},
   "outputs": [],
   "source": [
    "lexicon_attack = ['falso', 'mentira']\n",
    "\n",
    "# Lexicon esperado\n",
    "expected_lexicon = ['mentira', 'mentiroso', 'falso', 'mentirosa', 'verdad', 'verdadero',\n",
    "                    'engañoso', 'mentir', 'engaño', 'fraude', 'mentiras']"
   ]
  },
  {
   "cell_type": "code",
   "execution_count": 59,
   "metadata": {},
   "outputs": [],
   "source": [
    "def tagged_own_vocab(modelft, tweets, root, lexicon, u, n):\n",
    "    \n",
    "    lexicons = [lexicon]\n",
    "    for i in range(n):\n",
    "        new = []\n",
    "        if 0 < i:\n",
    "            new += lexicons[i-1]    \n",
    "        \n",
    "            for _, tweet in tweets.items():    \n",
    "                merge = product(new, tweet.tokens)\n",
    "\n",
    "                for wordl, token in list(merge):\n",
    "                    if wordl and token in modelft.wv.vocab:\n",
    "                        if modelft.similarity(wordl, token) >= u:\n",
    "                            if token not in new:\n",
    "                                new.append(token)\n",
    "        \n",
    "            lexicons.append(new)\n",
    "    return lexicons"
   ]
  },
  {
   "cell_type": "code",
   "execution_count": 30,
   "metadata": {},
   "outputs": [],
   "source": [
    "tweets, root = preprocessing('perfil.status.1191780164549697536.json')"
   ]
  },
  {
   "cell_type": "code",
   "execution_count": 80,
   "metadata": {},
   "outputs": [],
   "source": [
    "lexicons = tagged_own_vocab(modelft, tweets, root, lexicon_attack, 0.68, 3)"
   ]
  },
  {
   "cell_type": "markdown",
   "metadata": {},
   "source": [
    "### Lexicon attack - n0"
   ]
  },
  {
   "cell_type": "code",
   "execution_count": 82,
   "metadata": {},
   "outputs": [
    {
     "data": {
      "text/plain": [
       "['falso', 'mentira']"
      ]
     },
     "execution_count": 82,
     "metadata": {},
     "output_type": "execute_result"
    }
   ],
   "source": [
    "lexicons[0]"
   ]
  },
  {
   "cell_type": "markdown",
   "metadata": {},
   "source": [
    "### Lexicon attack - n1"
   ]
  },
  {
   "cell_type": "code",
   "execution_count": 83,
   "metadata": {},
   "outputs": [
    {
     "data": {
      "text/plain": [
       "['falso',\n",
       " 'mentira',\n",
       " 'verdad',\n",
       " 'realmente',\n",
       " 'mentiroso',\n",
       " 'mentiiira',\n",
       " 'miente',\n",
       " 'mentir']"
      ]
     },
     "execution_count": 83,
     "metadata": {},
     "output_type": "execute_result"
    }
   ],
   "source": [
    "lexicons[1]"
   ]
  },
  {
   "cell_type": "markdown",
   "metadata": {},
   "source": [
    "### Lexicon attack - n2"
   ]
  },
  {
   "cell_type": "code",
   "execution_count": 84,
   "metadata": {},
   "outputs": [
    {
     "data": {
      "text/plain": [
       "['falso',\n",
       " 'mentira',\n",
       " 'verdad',\n",
       " 'realmente',\n",
       " 'mentiroso',\n",
       " 'mentiiira',\n",
       " 'miente',\n",
       " 'mentir',\n",
       " 'mienten',\n",
       " 'mentirosos',\n",
       " 'caradura',\n",
       " 'mientan',\n",
       " 'mitomanos',\n",
       " 'hipocritas',\n",
       " 'digan',\n",
       " 'macristas',\n",
       " 'ladrones',\n",
       " 'buitres',\n",
       " 'k',\n",
       " 'delincuentes',\n",
       " 'basuras',\n",
       " 'chorros',\n",
       " 'macrisis',\n",
       " 'caraduras',\n",
       " 'gobierno',\n",
       " 'offshore',\n",
       " 'intereses',\n",
       " 'fmi',\n",
       " 'estafadores',\n",
       " 'ineptos',\n",
       " 'sarta',\n",
       " 'justicia',\n",
       " 'irresponsables',\n",
       " 'cristina',\n",
       " 'aumento',\n",
       " 'macri',\n",
       " 'kk',\n",
       " 'presidente',\n",
       " 'mauricio',\n",
       " 'robaron',\n",
       " 'kristina',\n",
       " 'crisis',\n",
       " 'presos',\n",
       " 'jueces',\n",
       " 'militantes',\n",
       " 'afanan',\n",
       " 'soretes',\n",
       " 'mafiosos',\n",
       " 'bcra',\n",
       " 'oposición',\n",
       " 'legislatura',\n",
       " 'manga',\n",
       " 'ignorantes',\n",
       " 'bonos',\n",
       " 'idiotas',\n",
       " 'deuda',\n",
       " 'estafador',\n",
       " 'presi',\n",
       " 'ministerios',\n",
       " 'macrismo',\n",
       " 'verguenzas',\n",
       " 'peronista',\n",
       " 'justicialista',\n",
       " 'vice',\n",
       " 'peronia',\n",
       " 'presa',\n",
       " 'afanó',\n",
       " 'negador',\n",
       " 'inflación',\n",
       " 'populistas',\n",
       " 'gobiernos',\n",
       " 'cepo',\n",
       " 'gastos',\n",
       " 'expertos',\n",
       " 'vencimientos',\n",
       " 'dice',\n",
       " 'cfk',\n",
       " 'caterva',\n",
       " 'afanar',\n",
       " 'dijo',\n",
       " 'creen',\n",
       " 'mafioso',\n",
       " 'fracasados',\n",
       " 'indec']"
      ]
     },
     "execution_count": 84,
     "metadata": {},
     "output_type": "execute_result"
    }
   ],
   "source": [
    "lexicons[2]"
   ]
  },
  {
   "cell_type": "markdown",
   "metadata": {},
   "source": [
    "### Comparacion con lexicon esperado"
   ]
  },
  {
   "cell_type": "code",
   "execution_count": 87,
   "metadata": {},
   "outputs": [
    {
     "data": {
      "text/plain": [
       "['falso', 'mentira', 'verdad', 'mentiroso', 'mentir']"
      ]
     },
     "execution_count": 87,
     "metadata": {},
     "output_type": "execute_result"
    }
   ],
   "source": [
    "[word for word in lexicons[2] if word in expected_lexicon]"
   ]
  }
 ],
 "metadata": {
  "kernelspec": {
   "display_name": "Python 3",
   "language": "python",
   "name": "python3"
  },
  "language_info": {
   "codemirror_mode": {
    "name": "ipython",
    "version": 3
   },
   "file_extension": ".py",
   "mimetype": "text/x-python",
   "name": "python",
   "nbconvert_exporter": "python",
   "pygments_lexer": "ipython3",
   "version": "3.7.4+"
  }
 },
 "nbformat": 4,
 "nbformat_minor": 2
}
