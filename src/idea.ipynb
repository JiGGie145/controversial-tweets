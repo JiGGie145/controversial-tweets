{
 "cells": [
  {
   "cell_type": "code",
   "execution_count": null,
   "metadata": {},
   "outputs": [],
   "source": [
    "import os\n",
    "import pickle\n",
    "from itertools import product\n",
    "from gensim.models import KeyedVectors\n",
    "from gensim.models.wrappers import FastText"
   ]
  },
  {
   "cell_type": "code",
   "execution_count": null,
   "metadata": {},
   "outputs": [],
   "source": [
    "from tweet.tweet import Tweet\n",
    "from preprocessing import preprocessing, tree_create"
   ]
  },
  {
   "cell_type": "code",
   "execution_count": null,
   "metadata": {},
   "outputs": [],
   "source": [
    "modelft = FastText.load_fasttext_format('../model/SENTIMENT_UBA_v4_d100.bin')"
   ]
  },
  {
   "cell_type": "code",
   "execution_count": null,
   "metadata": {},
   "outputs": [],
   "source": [
    "modelw2v = KeyedVectors.load_word2vec_format(\"../model/SBW-vectors-300-min5.bin.gz\", binary=True)"
   ]
  },
  {
   "cell_type": "code",
   "execution_count": null,
   "metadata": {},
   "outputs": [],
   "source": [
    "ROOT_OUT = '../pickle/'"
   ]
  },
  {
   "cell_type": "code",
   "execution_count": null,
   "metadata": {},
   "outputs": [],
   "source": [
    "lexicon_attack = ['falso', 'mentira']"
   ]
  },
  {
   "cell_type": "code",
   "execution_count": null,
   "metadata": {},
   "outputs": [],
   "source": [
    "# Lexicon esperado\n",
    "expected_lexicon = ['mentira', 'mentiroso', 'falso', 'mentirosa', 'verdad', 'verdadero', 'engañoso', 'mentir']"
   ]
  },
  {
   "cell_type": "code",
   "execution_count": null,
   "metadata": {},
   "outputs": [],
   "source": [
    "def taggedcross(modelft, tweets, root, lexicon, u, n):\n",
    "    \n",
    "    lexicons = [lexicon]\n",
    "    #tree = tree_create(tweets, root)\n",
    "    for i in range(n):\n",
    "        new = lexicons[i]\n",
    "        for _, tweet in tweets.items():\n",
    "            \n",
    "            merge = product(lexicons[i], tweet.tokens)\n",
    "\n",
    "            for wordl, token in list(merge):\n",
    "                if wordl and token in modelft.wv.vocab:\n",
    "                    if modelft.similarity(wordl, token) >= u:\n",
    "                        if token not in lexicon_attack:\n",
    "                            new.append(token)\n",
    "        \n",
    "        lexicons.append(new)\n",
    "    return lexicons"
   ]
  },
  {
   "cell_type": "code",
   "execution_count": null,
   "metadata": {},
   "outputs": [],
   "source": [
    "tweets, root = preprocessing('perfil.status.1191780164549697536.json')"
   ]
  },
  {
   "cell_type": "code",
   "execution_count": null,
   "metadata": {},
   "outputs": [],
   "source": [
    "lexicons = taggedcross(modelft, tweets, root, lexicon_attack, 0.65, 3)"
   ]
  },
  {
   "cell_type": "code",
   "execution_count": null,
   "metadata": {},
   "outputs": [],
   "source": [
    "w = filter(lambda x: x in modelw2v.vocab, lexicon_attack)\n",
    "lexicon_attack += [word for word, d in modelw2v.most_similar(positive=w)]"
   ]
  }
 ],
 "metadata": {
  "kernelspec": {
   "display_name": "Python 3",
   "language": "python",
   "name": "python3"
  },
  "language_info": {
   "codemirror_mode": {
    "name": "ipython",
    "version": 3
   },
   "file_extension": ".py",
   "mimetype": "text/x-python",
   "name": "python",
   "nbconvert_exporter": "python",
   "pygments_lexer": "ipython3",
   "version": "3.6.8"
  }
 },
 "nbformat": 4,
 "nbformat_minor": 2
}
